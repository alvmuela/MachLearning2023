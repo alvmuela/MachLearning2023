{
  "cells": [
    {
      "cell_type": "markdown",
      "metadata": {
        "id": "view-in-github",
        "colab_type": "text"
      },
      "source": [
        "<a href=\"https://colab.research.google.com/github/alvmuela/MachLearning2023/blob/main/4_Regresi%C3%B3n_Lineal_Predicci%C3%B3n_del_coste_de_un_incidente_de_seguridad.ipynb\" target=\"_parent\"><img src=\"https://colab.research.google.com/assets/colab-badge.svg\" alt=\"Open In Colab\"/></a>"
      ]
    },
    {
      "cell_type": "markdown",
      "metadata": {
        "id": "GeZwwE5_iQSz"
      },
      "source": [
        "# Regresión Lineal: Coste de un incidente de seguridad"
      ]
    },
    {
      "cell_type": "markdown",
      "metadata": {
        "id": "D8dHV_iaiQS2"
      },
      "source": [
        "En este ejercicio se explican los fundamentos básicos de la regresión lineal aplicada a un caso de uso sencillo relacionado con la Ciberseguridad."
      ]
    },
    {
      "cell_type": "markdown",
      "metadata": {
        "id": "02M2GssRiQS2"
      },
      "source": [
        "## Enunciado del ejercicio"
      ]
    },
    {
      "cell_type": "markdown",
      "metadata": {
        "id": "reRFOv-8iQS3"
      },
      "source": [
        "El ejercicio consiste en predecir el coste de un incidente de seguridad en base al número de equipos que se han visto afectados. El conjunto de datos es generado de manera aleatoria."
      ]
    },
    {
      "cell_type": "markdown",
      "metadata": {
        "id": "WRylLpFTiQS3"
      },
      "source": [
        "### 1. Generación del conjunto de datos"
      ]
    },
    {
      "cell_type": "code",
      "execution_count": 1,
      "metadata": {
        "colab": {
          "base_uri": "https://localhost:8080/"
        },
        "id": "HVgef9IPiQS3",
        "outputId": "78a9ee90-05e1-4942-d366-11116a677090"
      },
      "outputs": [
        {
          "output_type": "stream",
          "name": "stdout",
          "text": [
            "La longitud del conjunto de datos es: 100\n"
          ]
        }
      ],
      "source": [
        "import numpy as np\n",
        "\n",
        "X = 2 * np.random.rand(100, 1) \n",
        "y = 4 + 3 * X + np.random.randn(100, 1) # lo del random creo que es como el error aleatorio\n",
        "\n",
        "print(\"La longitud del conjunto de datos es:\", len(X))"
      ]
    },
    {
      "cell_type": "markdown",
      "metadata": {
        "id": "Zpyz0hG1iQS4"
      },
      "source": [
        "### 2. Visualización del conjunto de datos"
      ]
    },
    {
      "cell_type": "code",
      "execution_count": 2,
      "metadata": {
        "id": "1oxbzM5OiQS4"
      },
      "outputs": [],
      "source": [
        "import matplotlib.pyplot as plt\n",
        "%matplotlib inline"
      ]
    },
    {
      "cell_type": "code",
      "execution_count": 4,
      "metadata": {
        "colab": {
          "base_uri": "https://localhost:8080/",
          "height": 265
        },
        "id": "HOUIj4cbiQS4",
        "outputId": "496f9e47-4664-4425-8c29-5f0c2b539faa"
      },
      "outputs": [
        {
          "output_type": "display_data",
          "data": {
            "text/plain": [
              "<Figure size 432x288 with 1 Axes>"
            ],
            "image/png": "[encoded data removed]"
          },
          "metadata": {
            "needs_background": "light"
          }
        }
      ],
      "source": [
        "plt.plot(X, y, \"b.\") #lo de la b es de blue\n",
        "plt.show() #en el diagrama vemos que hay una correlacion lineal positiva, la varianza viene de sumar el error"
      ]
    },
    {
      "cell_type": "code",
      "execution_count": 5,
      "metadata": {
        "colab": {
          "base_uri": "https://localhost:8080/",
          "height": 279
        },
        "id": "QlrjNQSyiQS5",
        "outputId": "cb6fb2fb-8bd3-4a70-f827-354b453bf0bb"
      },
      "outputs": [
        {
          "output_type": "display_data",
          "data": {
            "text/plain": [
              "<Figure size 432x288 with 1 Axes>"
            ],
            "image/png": "[encoded data removed]"
          },
          "metadata": {
            "needs_background": "light"
          }
        }
      ],
      "source": [
        "plt.plot(X, y, \"b.\")\n",
        "plt.xlabel(\"Equipos afectados (u/1000)\")\n",
        "plt.ylabel(\"Coste del incidente (u/10000)\")\n",
        "plt.show()"
      ]
    },
    {
      "cell_type": "markdown",
      "metadata": {
        "id": "sIfzAPi5iQS5"
      },
      "source": [
        "### 3. Modificación del conjunto de datos"
      ]
    },
    {
      "cell_type": "code",
      "execution_count": 6,
      "metadata": {
        "id": "Ek7UHZ1FiQS5"
      },
      "outputs": [],
      "source": [
        "import pandas as pd"
      ]
    },
    {
      "cell_type": "code",
      "execution_count": 7,
      "metadata": {
        "colab": {
          "base_uri": "https://localhost:8080/",
          "height": 363
        },
        "id": "N83I5utjiQS5",
        "outputId": "06d5f636-6927-4dfd-ab07-dc94a1c20cde"
      },
      "outputs": [
        {
          "output_type": "execute_result",
          "data": {
            "text/plain": [
              "   n_equipos_afectados     coste\n",
              "0             1.587810  9.674800\n",
              "1             1.430955  8.721248\n",
              "2             1.706715  9.166491\n",
              "3             1.153374  7.534843\n",
              "4             1.386262  7.840312\n",
              "5             1.377272  7.897909\n",
              "6             0.439799  5.610528\n",
              "7             1.382819  7.730754\n",
              "8             0.419249  5.784296\n",
              "9             1.011928  8.580543"
            ],
            "text/html": [
              "\n",
              "  <div id=\"df-fbd4664c-c227-4611-9b9d-ffc9d06059d3\">\n",
              "    <div class=\"colab-df-container\">\n",
              "      <div>\n",
              "<style scoped>\n",
              "    .dataframe tbody tr th:only-of-type {\n",
              "        vertical-align: middle;\n",
              "    }\n",
              "\n",
              "    .dataframe tbody tr th {\n",
              "        vertical-align: top;\n",
              "    }\n",
              "\n",
              "    .dataframe thead th {\n",
              "        text-align: right;\n",
              "    }\n",
              "</style>\n",
              "<table border=\"1\" class=\"dataframe\">\n",
              "  <thead>\n",
              "    <tr style=\"text-align: right;\">\n",
              "      <th></th>\n",
              "      <th>n_equipos_afectados</th>\n",
              "      <th>coste</th>\n",
              "    </tr>\n",
              "  </thead>\n",
              "  <tbody>\n",
              "    <tr>\n",
              "      <th>0</th>\n",
              "      <td>1.587810</td>\n",
              "      <td>9.674800</td>\n",
              "    </tr>\n",
              "    <tr>\n",
              "      <th>1</th>\n",
              "      <td>1.430955</td>\n",
              "      <td>8.721248</td>\n",
              "    </tr>\n",
              "    <tr>\n",
              "      <th>2</th>\n",
              "      <td>1.706715</td>\n",
              "      <td>9.166491</td>\n",
              "    </tr>\n",
              "    <tr>\n",
              "      <th>3</th>\n",
              "      <td>1.153374</td>\n",
              "      <td>7.534843</td>\n",
              "    </tr>\n",
              "    <tr>\n",
              "      <th>4</th>\n",
              "      <td>1.386262</td>\n",
              "      <td>7.840312</td>\n",
              "    </tr>\n",
              "    <tr>\n",
              "      <th>5</th>\n",
              "      <td>1.377272</td>\n",
              "      <td>7.897909</td>\n",
              "    </tr>\n",
              "    <tr>\n",
              "      <th>6</th>\n",
              "      <td>0.439799</td>\n",
              "      <td>5.610528</td>\n",
              "    </tr>\n",
              "    <tr>\n",
              "      <th>7</th>\n",
              "      <td>1.382819</td>\n",
              "      <td>7.730754</td>\n",
              "    </tr>\n",
              "    <tr>\n",
              "      <th>8</th>\n",
              "      <td>0.419249</td>\n",
              "      <td>5.784296</td>\n",
              "    </tr>\n",
              "    <tr>\n",
              "      <th>9</th>\n",
              "      <td>1.011928</td>\n",
              "      <td>8.580543</td>\n",
              "    </tr>\n",
              "  </tbody>\n",
              "</table>\n",
              "</div>\n",
              "      <button class=\"colab-df-convert\" onclick=\"convertToInteractive('df-fbd4664c-c227-4611-9b9d-ffc9d06059d3')\"\n",
              "              title=\"Convert this dataframe to an interactive table.\"\n",
              "              style=\"display:none;\">\n",
              "        \n",
              "  <svg xmlns=\"http://www.w3.org/2000/svg\" height=\"24px\"viewBox=\"0 0 24 24\"\n",
              "       width=\"24px\">\n",
              "    <path d=\"M0 0h24v24H0V0z\" fill=\"none\"/>\n",
              "    <path d=\"M18.56 5.44l.94 2.06.94-2.06 2.06-.94-2.06-.94-.94-2.06-.94 2.06-2.06.94zm-11 1L8.5 8.5l.94-2.06 2.06-.94-2.06-.94L8.5 2.5l-.94 2.06-2.06.94zm10 10l.94 2.06.94-2.06 2.06-.94-2.06-.94-.94-2.06-.94 2.06-2.06.94z\"/><path d=\"M17.41 7.96l-1.37-1.37c-.4-.4-.92-.59-1.43-.59-.52 0-1.04.2-1.43.59L10.3 9.45l-7.72 7.72c-.78.78-.78 2.05 0 2.83L4 21.41c.39.39.9.59 1.41.59.51 0 1.02-.2 1.41-.59l7.78-7.78 2.81-2.81c.8-.78.8-2.07 0-2.86zM5.41 20L4 18.59l7.72-7.72 1.47 1.35L5.41 20z\"/>\n",
              "  </svg>\n",
              "      </button>\n",
              "      \n",
              "  <style>\n",
              "    .colab-df-container {\n",
              "      display:flex;\n",
              "      flex-wrap:wrap;\n",
              "      gap: 12px;\n",
              "    }\n",
              "\n",
              "    .colab-df-convert {\n",
              "      background-color: #E8F0FE;\n",
              "      border: none;\n",
              "      border-radius: 50%;\n",
              "      cursor: pointer;\n",
              "      display: none;\n",
              "      fill: #1967D2;\n",
              "      height: 32px;\n",
              "      padding: 0 0 0 0;\n",
              "      width: 32px;\n",
              "    }\n",
              "\n",
              "    .colab-df-convert:hover {\n",
              "      background-color: #E2EBFA;\n",
              "      box-shadow: 0px 1px 2px rgba(60, 64, 67, 0.3), 0px 1px 3px 1px rgba(60, 64, 67, 0.15);\n",
              "      fill: #174EA6;\n",
              "    }\n",
              "\n",
              "    [theme=dark] .colab-df-convert {\n",
              "      background-color: #3B4455;\n",
              "      fill: #D2E3FC;\n",
              "    }\n",
              "\n",
              "    [theme=dark] .colab-df-convert:hover {\n",
              "      background-color: #434B5C;\n",
              "      box-shadow: 0px 1px 3px 1px rgba(0, 0, 0, 0.15);\n",
              "      filter: drop-shadow(0px 1px 2px rgba(0, 0, 0, 0.3));\n",
              "      fill: #FFFFFF;\n",
              "    }\n",
              "  </style>\n",
              "\n",
              "      <script>\n",
              "        const buttonEl =\n",
              "          document.querySelector('#df-fbd4664c-c227-4611-9b9d-ffc9d06059d3 button.colab-df-convert');\n",
              "        buttonEl.style.display =\n",
              "          google.colab.kernel.accessAllowed ? 'block' : 'none';\n",
              "\n",
              "        async function convertToInteractive(key) {\n",
              "          const element = document.querySelector('#df-fbd4664c-c227-4611-9b9d-ffc9d06059d3');\n",
              "          const dataTable =\n",
              "            await google.colab.kernel.invokeFunction('convertToInteractive',\n",
              "                                                     [key], {});\n",
              "          if (!dataTable) return;\n",
              "\n",
              "          const docLinkHtml = 'Like what you see? Visit the ' +\n",
              "            '<a target=\"_blank\" href=https://colab.research.google.com/notebooks/data_table.ipynb>data table notebook</a>'\n",
              "            + ' to learn more about interactive tables.';\n",
              "          element.innerHTML = '';\n",
              "          dataTable['output_type'] = 'display_data';\n",
              "          await google.colab.output.renderOutput(dataTable, element);\n",
              "          const docLink = document.createElement('div');\n",
              "          docLink.innerHTML = docLinkHtml;\n",
              "          element.appendChild(docLink);\n",
              "        }\n",
              "      </script>\n",
              "    </div>\n",
              "  </div>\n",
              "  "
            ]
          },
          "metadata": {},
          "execution_count": 7
        }
      ],
      "source": [
        "data = {'n_equipos_afectados': X.flatten(), 'coste': y.flatten()}\n",
        "df = pd.DataFrame(data)\n",
        "df.head(10)"
      ]
    },
    {
      "cell_type": "code",
      "execution_count": null,
      "metadata": {
        "id": "L_m1J9_OiQS5",
        "outputId": "ec49b4fb-e2df-4bf2-b07c-8e3b9933b9a9"
      },
      "outputs": [
        {
          "data": {
            "text/html": [
              "<div>\n",
              "<style scoped>\n",
              "    .dataframe tbody tr th:only-of-type {\n",
              "        vertical-align: middle;\n",
              "    }\n",
              "\n",
              "    .dataframe tbody tr th {\n",
              "        vertical-align: top;\n",
              "    }\n",
              "\n",
              "    .dataframe thead th {\n",
              "        text-align: right;\n",
              "    }\n",
              "</style>\n",
              "<table border=\"1\" class=\"dataframe\">\n",
              "  <thead>\n",
              "    <tr style=\"text-align: right;\">\n",
              "      <th></th>\n",
              "      <th>n_equipos_afectados</th>\n",
              "      <th>coste</th>\n",
              "    </tr>\n",
              "  </thead>\n",
              "  <tbody>\n",
              "    <tr>\n",
              "      <td>0</td>\n",
              "      <td>383</td>\n",
              "      <td>41563</td>\n",
              "    </tr>\n",
              "    <tr>\n",
              "      <td>1</td>\n",
              "      <td>537</td>\n",
              "      <td>53032</td>\n",
              "    </tr>\n",
              "    <tr>\n",
              "      <td>2</td>\n",
              "      <td>1313</td>\n",
              "      <td>85863</td>\n",
              "    </tr>\n",
              "    <tr>\n",
              "      <td>3</td>\n",
              "      <td>1997</td>\n",
              "      <td>83352</td>\n",
              "    </tr>\n",
              "    <tr>\n",
              "      <td>4</td>\n",
              "      <td>1173</td>\n",
              "      <td>84416</td>\n",
              "    </tr>\n",
              "    <tr>\n",
              "      <td>5</td>\n",
              "      <td>835</td>\n",
              "      <td>57606</td>\n",
              "    </tr>\n",
              "    <tr>\n",
              "      <td>6</td>\n",
              "      <td>639</td>\n",
              "      <td>53643</td>\n",
              "    </tr>\n",
              "    <tr>\n",
              "      <td>7</td>\n",
              "      <td>1769</td>\n",
              "      <td>85136</td>\n",
              "    </tr>\n",
              "    <tr>\n",
              "      <td>8</td>\n",
              "      <td>1901</td>\n",
              "      <td>111538</td>\n",
              "    </tr>\n",
              "    <tr>\n",
              "      <td>9</td>\n",
              "      <td>1142</td>\n",
              "      <td>72895</td>\n",
              "    </tr>\n",
              "  </tbody>\n",
              "</table>\n",
              "</div>"
            ],
            "text/plain": [
              "   n_equipos_afectados   coste\n",
              "0                  383   41563\n",
              "1                  537   53032\n",
              "2                 1313   85863\n",
              "3                 1997   83352\n",
              "4                 1173   84416\n",
              "5                  835   57606\n",
              "6                  639   53643\n",
              "7                 1769   85136\n",
              "8                 1901  111538\n",
              "9                 1142   72895"
            ]
          },
          "execution_count": 7,
          "metadata": {},
          "output_type": "execute_result"
        }
      ],
      "source": [
        "# Escalado del número de equipos afectados\n",
        "df['n_equipos_afectados'] = df['n_equipos_afectados'] * 1000\n",
        "df['n_equipos_afectados'] = df['n_equipos_afectados'].astype('int')\n",
        "# Escalado del coste\n",
        "df['coste'] = df['coste'] * 10000\n",
        "df['coste'] = df['coste'].astype('int')\n",
        "df.head(10)"
      ]
    },
    {
      "cell_type": "code",
      "execution_count": null,
      "metadata": {
        "id": "UsDc_rLQiQS6",
        "outputId": "ddbdb65f-c0d9-4c4b-edb1-0ca1e7c44725"
      },
      "outputs": [
        {
          "data": {
            "image/png": "[encoded data removed]",
            "text/plain": [
              "<Figure size 432x288 with 1 Axes>"
            ]
          },
          "metadata": {
            "needs_background": "light"
          },
          "output_type": "display_data"
        }
      ],
      "source": [
        "# Representación gráfica del conjunto de datos\n",
        "plt.plot(df['n_equipos_afectados'], df['coste'], \"b.\")\n",
        "plt.xlabel(\"Equipos afectados\")\n",
        "plt.ylabel(\"Coste del incidente\")\n",
        "plt.show()"
      ]
    },
    {
      "cell_type": "markdown",
      "metadata": {
        "id": "Rh65QyCRiQS6"
      },
      "source": [
        "### 4. Construcción del modelo"
      ]
    },
    {
      "cell_type": "code",
      "execution_count": null,
      "metadata": {
        "id": "dfe24rHmiQS6"
      },
      "outputs": [],
      "source": [
        "from sklearn.linear_model import LinearRegression"
      ]
    },
    {
      "cell_type": "code",
      "execution_count": null,
      "metadata": {
        "id": "I2LOWwIQiQS6",
        "outputId": "1fc22bf5-3f60-4aba-c35a-f3cea4871f78"
      },
      "outputs": [
        {
          "data": {
            "text/plain": [
              "LinearRegression(copy_X=True, fit_intercept=True, n_jobs=None, normalize=False)"
            ]
          },
          "execution_count": 10,
          "metadata": {},
          "output_type": "execute_result"
        }
      ],
      "source": [
        "# Construcción del modelo y ajuste de la función hipótesis\n",
        "lin_reg = LinearRegression()\n",
        "lin_reg.fit(df['n_equipos_afectados'].values.reshape(-1, 1), df['coste'].values)"
      ]
    },
    {
      "cell_type": "code",
      "execution_count": null,
      "metadata": {
        "id": "k2s66RDEiQS7",
        "outputId": "8ad651cf-72d6-4df0-a722-7592e63adc27"
      },
      "outputs": [
        {
          "data": {
            "text/plain": [
              "37328.143039995004"
            ]
          },
          "execution_count": 11,
          "metadata": {},
          "output_type": "execute_result"
        }
      ],
      "source": [
        "# Parámetro theta 0\n",
        "lin_reg.intercept_"
      ]
    },
    {
      "cell_type": "code",
      "execution_count": null,
      "metadata": {
        "id": "OYz1n0I2iQS7",
        "outputId": "914ed313-3a24-4094-934c-5aa2d1d2ea8c"
      },
      "outputs": [
        {
          "data": {
            "text/plain": [
              "array([30.22393987])"
            ]
          },
          "execution_count": 14,
          "metadata": {},
          "output_type": "execute_result"
        }
      ],
      "source": [
        "# Parámetro theta 1\n",
        "lin_reg.coef_"
      ]
    },
    {
      "cell_type": "markdown",
      "metadata": {
        "id": "XPvMvq2EiQS7"
      },
      "source": [
        "Y = 37328.14 + 30.22*X"
      ]
    },
    {
      "cell_type": "code",
      "execution_count": null,
      "metadata": {
        "id": "yw8CzfGbiQS7"
      },
      "outputs": [],
      "source": [
        "# Predicción para el valor mínimo y máximo del conjunto de datos de entrenamiento\n",
        "X_min_max = np.array([[df[\"n_equipos_afectados\"].min()], [df[\"n_equipos_afectados\"].max()]])\n",
        "y_train_pred = lin_reg.predict(X_min_max)"
      ]
    },
    {
      "cell_type": "code",
      "execution_count": null,
      "metadata": {
        "id": "o4JvjhXxiQS8",
        "outputId": "a2ec8a7b-97ad-4e31-acc7-ff2a4341b0a0"
      },
      "outputs": [
        {
          "data": {
            "image/png": "[encoded data removed]",
            "text/plain": [
              "<Figure size 432x288 with 1 Axes>"
            ]
          },
          "metadata": {
            "needs_background": "light"
          },
          "output_type": "display_data"
        }
      ],
      "source": [
        "# Representación gráfica de la función hipótesis generada\n",
        "plt.plot(X_min_max, y_train_pred, \"g-\")\n",
        "plt.plot(df['n_equipos_afectados'], df['coste'], \"b.\")\n",
        "plt.xlabel(\"Equipos afectados\")\n",
        "plt.ylabel(\"Coste del incidente\")\n",
        "plt.show()"
      ]
    },
    {
      "cell_type": "markdown",
      "metadata": {
        "id": "mqqxbn3JiQS8"
      },
      "source": [
        "### 5. Predicción de nuevos ejemplos"
      ]
    },
    {
      "cell_type": "code",
      "execution_count": null,
      "metadata": {
        "id": "WzCHT9C1iQS8",
        "outputId": "dff9c391-4fb9-43e7-90d3-abcc62dec41a"
      },
      "outputs": [
        {
          "name": "stdout",
          "output_type": "stream",
          "text": [
            "El coste del incidente sería: 77859 €\n"
          ]
        }
      ],
      "source": [
        "x_new = np.array([[1300]]) # 1300 equipos afectados\n",
        "\n",
        "# Predicción del coste que tendría el incidente\n",
        "coste = lin_reg.predict(x_new) \n",
        "\n",
        "print(\"El coste del incidente sería:\", int(coste[0]), \"€\")"
      ]
    },
    {
      "cell_type": "code",
      "execution_count": null,
      "metadata": {
        "id": "TjfkiJStiQS8",
        "outputId": "f06ed857-38dd-4ed3-8bf5-b5782246846b"
      },
      "outputs": [
        {
          "data": {
            "image/png": "[encoded data removed]",
            "text/plain": [
              "<Figure size 432x288 with 1 Axes>"
            ]
          },
          "metadata": {
            "needs_background": "light"
          },
          "output_type": "display_data"
        }
      ],
      "source": [
        "plt.plot(df['n_equipos_afectados'], df['coste'], \"b.\")\n",
        "plt.plot(X_min_max, y_train_pred, \"g-\")\n",
        "plt.plot(x_new, coste, \"rx\")\n",
        "plt.xlabel(\"Equipos afectados\")\n",
        "plt.ylabel(\"Coste del incidente\")\n",
        "plt.show()"
      ]
    },
    {
      "cell_type": "code",
      "execution_count": null,
      "metadata": {
        "id": "w-4tl3euiQS9"
      },
      "outputs": [],
      "source": []
    }
  ],
  "metadata": {
    "kernelspec": {
      "display_name": "Python 3",
      "language": "python",
      "name": "python3"
    },
    "language_info": {
      "codemirror_mode": {
        "name": "ipython",
        "version": 3
      },
      "file_extension": ".py",
      "mimetype": "text/x-python",
      "name": "python",
      "nbconvert_exporter": "python",
      "pygments_lexer": "ipython3",
      "version": "3.7.4"
    },
    "toc": {
      "base_numbering": 1,
      "nav_menu": {},
      "number_sections": true,
      "sideBar": true,
      "skip_h1_title": false,
      "title_cell": "Table of Contents",
      "title_sidebar": "Contents",
      "toc_cell": false,
      "toc_position": {},
      "toc_section_display": true,
      "toc_window_display": false
    },
    "colab": {
      "provenance": [],
      "include_colab_link": true
    }
  },
  "nbformat": 4,
  "nbformat_minor": 0
}